{
 "cells": [
  {
   "cell_type": "code",
   "execution_count": 1,
   "metadata": {},
   "outputs": [],
   "source": [
    "import numpy as np\n",
    "import matplotlib.pyplot as plt\n",
    "import pandas as pd\n",
    "import pickle\n",
    "from typing_extensions import Literal\n",
    "from typing import Optional, List\n",
    "from sklearn import datasets\n",
    "from Layer import Layer\n",
    "from MLP import MLP"
   ]
  },
  {
   "cell_type": "markdown",
   "metadata": {},
   "source": [
    "# Utils"
   ]
  },
  {
   "cell_type": "code",
   "execution_count": 12,
   "metadata": {},
   "outputs": [],
   "source": [
    "import sys\n",
    "sys.path.append('../')"
   ]
  },
  {
   "cell_type": "code",
   "execution_count": 13,
   "metadata": {},
   "outputs": [],
   "source": [
    "from random_mix import random_mix\n",
    "from random_sampling import random_sampling"
   ]
  },
  {
   "cell_type": "code",
   "execution_count": 2,
   "metadata": {},
   "outputs": [],
   "source": [
    "def get_names(pitch: bool = 1, dynamics: bool = 1, rhythm: bool = 1, timbre: bool = 1):\n",
    "    '''\n",
    "    Input: booleans indicating the types of features to be used (pitch, dynamics, rhythm and timbre)\n",
    "    Output: Returns a list of the names of the features for the activated types of features\n",
    "    '''\n",
    "    pitch = []\n",
    "    for i in range(12):\n",
    "        pitch.extend([str(i+1)+\"_pitch_min\", str(i+1)+\"_pitch_max\", str(i+1)+\"_pitch_mean\", str(i+1)+\"_pitch_std\"])\n",
    "    \n",
    "    dynamics = []\n",
    "    dynamics.extend([\"spectral_centroid_min\", \"spectral_centroid_max\", \"spectral_centroid_mean\", \"spectral_centroid_std\"])\n",
    "    dynamics.extend([\"zero_crossing_rate_min\", \"zero_crossing_rate_max\", \"zero_crossing_rate_mean\", \"zero_crossing_rate_std\"])\n",
    "    dynamics.extend([\"spectral_rolloff_min\", \"spectral_rolloff_max\", \"spectral_rolloff_mean\", \"spectral_rolloff_std\"])\n",
    "\n",
    "    rhythm = []\n",
    "    rhythm.extend([\"tempogram_min\", \"tempogram_max\", \"tempogram_mean\", \"tempogram_std\"])\n",
    "\n",
    "    timbre = []\n",
    "    for i in range(20):\n",
    "        timbre.extend([str(i+1)+\"_mfcc_min\", str(i+1)+\"_mfcc_max\", str(i+1)+\"_mfcc_mean\", str(i+1)+\"_mfcc_std\"])\n",
    "\n",
    "    features_names = []\n",
    "    if(pitch):\n",
    "        features_names.extend(pitch)\n",
    "    if(dynamics):\n",
    "        features_names.extend(dynamics)\n",
    "    if(rhythm):\n",
    "        features_names.extend(rhythm)\n",
    "    if(timbre):\n",
    "        features_names.extend(timbre)\n",
    "\n",
    "    return features_names"
   ]
  },
  {
   "cell_type": "code",
   "execution_count": 17,
   "metadata": {},
   "outputs": [],
   "source": [
    "def get_train_test(size: float , X: np.ndarray, y: np.ndarray):\n",
    "  '''\n",
    "  Input:\n",
    "  - suggested: is the suggested number of samples according to PAG\n",
    "  - X: the data\n",
    "  - y: the labels\n",
    "\n",
    "  Output:\n",
    "  - X_train: the training data with suggested samples\n",
    "  - y_train: the training labels\n",
    "  - X_test: the test set with all the data not chosen for training\n",
    "  - y_test: the test labels\n",
    "  '''\n",
    "  X_mixed = random_mix(np.append(X,y.reshape(y.shape[0],1), axis = 1))\n",
    "  X_train, X_test = random_sampling(X_mixed, size = size)\n",
    "  X_train, y_train =  X_train[:,:-1], X_train[:,-1]\n",
    "  X_test, y_test =  X_test[:,:-1], X_test[:,-1]\n",
    "  assert X_train.shape[0] == y_train.shape[0]\n",
    "  assert X_test.shape[0] == y_test.shape[0]\n",
    "  return X_train, y_train, X_test, y_test"
   ]
  },
  {
   "cell_type": "markdown",
   "metadata": {},
   "source": [
    "# Load Data"
   ]
  },
  {
   "cell_type": "code",
   "execution_count": 8,
   "metadata": {},
   "outputs": [
    {
     "data": {
      "text/plain": [
       "(150, 4)"
      ]
     },
     "execution_count": 8,
     "metadata": {},
     "output_type": "execute_result"
    }
   ],
   "source": [
    "# Read iris to test the MLP\n",
    "iris = datasets.load_iris()\n",
    "X_iris = iris.data\n",
    "y_iris = iris.target\n",
    "X_iris.shape"
   ]
  },
  {
   "cell_type": "code",
   "execution_count": 5,
   "metadata": {},
   "outputs": [
    {
     "data": {
      "text/plain": [
       "(201, 145)"
      ]
     },
     "execution_count": 5,
     "metadata": {},
     "output_type": "execute_result"
    }
   ],
   "source": [
    "# Read musical features\n",
    "infile = open('dataset_features.pckl','rb')\n",
    "features = pickle.load(infile)\n",
    "infile.close()\n",
    "features.shape"
   ]
  },
  {
   "cell_type": "code",
   "execution_count": 6,
   "metadata": {},
   "outputs": [
    {
     "data": {
      "text/html": [
       "<div>\n",
       "<style scoped>\n",
       "    .dataframe tbody tr th:only-of-type {\n",
       "        vertical-align: middle;\n",
       "    }\n",
       "\n",
       "    .dataframe tbody tr th {\n",
       "        vertical-align: top;\n",
       "    }\n",
       "\n",
       "    .dataframe thead th {\n",
       "        text-align: right;\n",
       "    }\n",
       "</style>\n",
       "<table border=\"1\" class=\"dataframe\">\n",
       "  <thead>\n",
       "    <tr style=\"text-align: right;\">\n",
       "      <th></th>\n",
       "      <th>1_pitch_mean</th>\n",
       "      <th>1_pitch_std</th>\n",
       "      <th>2_pitch_mean</th>\n",
       "      <th>2_pitch_std</th>\n",
       "      <th>3_pitch_mean</th>\n",
       "      <th>3_pitch_std</th>\n",
       "      <th>4_pitch_mean</th>\n",
       "      <th>4_pitch_std</th>\n",
       "      <th>5_pitch_mean</th>\n",
       "      <th>5_pitch_std</th>\n",
       "      <th>...</th>\n",
       "      <th>18_mfcc_std</th>\n",
       "      <th>19_mfcc_min</th>\n",
       "      <th>19_mfcc_max</th>\n",
       "      <th>19_mfcc_mean</th>\n",
       "      <th>19_mfcc_std</th>\n",
       "      <th>20_mfcc_min</th>\n",
       "      <th>20_mfcc_max</th>\n",
       "      <th>20_mfcc_mean</th>\n",
       "      <th>20_mfcc_std</th>\n",
       "      <th>Label</th>\n",
       "    </tr>\n",
       "  </thead>\n",
       "  <tbody>\n",
       "    <tr>\n",
       "      <th>0</th>\n",
       "      <td>0.367158</td>\n",
       "      <td>0.250658</td>\n",
       "      <td>0.446059</td>\n",
       "      <td>0.303279</td>\n",
       "      <td>0.345249</td>\n",
       "      <td>0.267387</td>\n",
       "      <td>0.378227</td>\n",
       "      <td>0.330485</td>\n",
       "      <td>0.358498</td>\n",
       "      <td>0.265262</td>\n",
       "      <td>...</td>\n",
       "      <td>6.322423</td>\n",
       "      <td>-35.063286</td>\n",
       "      <td>22.445841</td>\n",
       "      <td>-6.158485</td>\n",
       "      <td>7.843939</td>\n",
       "      <td>-15.309130</td>\n",
       "      <td>32.983795</td>\n",
       "      <td>5.411145</td>\n",
       "      <td>6.995747</td>\n",
       "      <td>0.0</td>\n",
       "    </tr>\n",
       "    <tr>\n",
       "      <th>1</th>\n",
       "      <td>0.548021</td>\n",
       "      <td>0.321238</td>\n",
       "      <td>0.505586</td>\n",
       "      <td>0.274560</td>\n",
       "      <td>0.521004</td>\n",
       "      <td>0.300331</td>\n",
       "      <td>0.554739</td>\n",
       "      <td>0.276167</td>\n",
       "      <td>0.581093</td>\n",
       "      <td>0.289333</td>\n",
       "      <td>...</td>\n",
       "      <td>7.282372</td>\n",
       "      <td>-24.618061</td>\n",
       "      <td>21.180487</td>\n",
       "      <td>-0.404446</td>\n",
       "      <td>5.324600</td>\n",
       "      <td>-18.628052</td>\n",
       "      <td>39.097198</td>\n",
       "      <td>3.593739</td>\n",
       "      <td>5.749859</td>\n",
       "      <td>0.0</td>\n",
       "    </tr>\n",
       "    <tr>\n",
       "      <th>2</th>\n",
       "      <td>0.228689</td>\n",
       "      <td>0.281790</td>\n",
       "      <td>0.141832</td>\n",
       "      <td>0.164917</td>\n",
       "      <td>0.200010</td>\n",
       "      <td>0.270996</td>\n",
       "      <td>0.226451</td>\n",
       "      <td>0.255719</td>\n",
       "      <td>0.352861</td>\n",
       "      <td>0.332630</td>\n",
       "      <td>...</td>\n",
       "      <td>7.605660</td>\n",
       "      <td>-29.139126</td>\n",
       "      <td>22.793182</td>\n",
       "      <td>-1.253622</td>\n",
       "      <td>7.343888</td>\n",
       "      <td>-26.660023</td>\n",
       "      <td>21.146843</td>\n",
       "      <td>-0.899938</td>\n",
       "      <td>6.930117</td>\n",
       "      <td>0.0</td>\n",
       "    </tr>\n",
       "    <tr>\n",
       "      <th>3</th>\n",
       "      <td>0.341178</td>\n",
       "      <td>0.246983</td>\n",
       "      <td>0.478602</td>\n",
       "      <td>0.343246</td>\n",
       "      <td>0.281382</td>\n",
       "      <td>0.211076</td>\n",
       "      <td>0.306389</td>\n",
       "      <td>0.270918</td>\n",
       "      <td>0.313350</td>\n",
       "      <td>0.240436</td>\n",
       "      <td>...</td>\n",
       "      <td>5.671211</td>\n",
       "      <td>-28.038145</td>\n",
       "      <td>19.897411</td>\n",
       "      <td>-5.406955</td>\n",
       "      <td>5.860555</td>\n",
       "      <td>-18.276693</td>\n",
       "      <td>26.443262</td>\n",
       "      <td>1.132697</td>\n",
       "      <td>6.015408</td>\n",
       "      <td>0.0</td>\n",
       "    </tr>\n",
       "    <tr>\n",
       "      <th>4</th>\n",
       "      <td>0.227324</td>\n",
       "      <td>0.213584</td>\n",
       "      <td>0.520437</td>\n",
       "      <td>0.396417</td>\n",
       "      <td>0.204974</td>\n",
       "      <td>0.203153</td>\n",
       "      <td>0.249976</td>\n",
       "      <td>0.289113</td>\n",
       "      <td>0.297624</td>\n",
       "      <td>0.357263</td>\n",
       "      <td>...</td>\n",
       "      <td>7.713253</td>\n",
       "      <td>-32.549755</td>\n",
       "      <td>21.090767</td>\n",
       "      <td>-4.515356</td>\n",
       "      <td>8.532988</td>\n",
       "      <td>-27.717663</td>\n",
       "      <td>29.424013</td>\n",
       "      <td>-4.685843</td>\n",
       "      <td>8.793524</td>\n",
       "      <td>0.0</td>\n",
       "    </tr>\n",
       "  </tbody>\n",
       "</table>\n",
       "<p>5 rows × 119 columns</p>\n",
       "</div>"
      ],
      "text/plain": [
       "   1_pitch_mean  1_pitch_std  2_pitch_mean  2_pitch_std  3_pitch_mean  \\\n",
       "0      0.367158     0.250658      0.446059     0.303279      0.345249   \n",
       "1      0.548021     0.321238      0.505586     0.274560      0.521004   \n",
       "2      0.228689     0.281790      0.141832     0.164917      0.200010   \n",
       "3      0.341178     0.246983      0.478602     0.343246      0.281382   \n",
       "4      0.227324     0.213584      0.520437     0.396417      0.204974   \n",
       "\n",
       "   3_pitch_std  4_pitch_mean  4_pitch_std  5_pitch_mean  5_pitch_std  ...  \\\n",
       "0     0.267387      0.378227     0.330485      0.358498     0.265262  ...   \n",
       "1     0.300331      0.554739     0.276167      0.581093     0.289333  ...   \n",
       "2     0.270996      0.226451     0.255719      0.352861     0.332630  ...   \n",
       "3     0.211076      0.306389     0.270918      0.313350     0.240436  ...   \n",
       "4     0.203153      0.249976     0.289113      0.297624     0.357263  ...   \n",
       "\n",
       "   18_mfcc_std  19_mfcc_min  19_mfcc_max  19_mfcc_mean  19_mfcc_std  \\\n",
       "0     6.322423   -35.063286    22.445841     -6.158485     7.843939   \n",
       "1     7.282372   -24.618061    21.180487     -0.404446     5.324600   \n",
       "2     7.605660   -29.139126    22.793182     -1.253622     7.343888   \n",
       "3     5.671211   -28.038145    19.897411     -5.406955     5.860555   \n",
       "4     7.713253   -32.549755    21.090767     -4.515356     8.532988   \n",
       "\n",
       "   20_mfcc_min  20_mfcc_max  20_mfcc_mean  20_mfcc_std  Label  \n",
       "0   -15.309130    32.983795      5.411145     6.995747    0.0  \n",
       "1   -18.628052    39.097198      3.593739     5.749859    0.0  \n",
       "2   -26.660023    21.146843     -0.899938     6.930117    0.0  \n",
       "3   -18.276693    26.443262      1.132697     6.015408    0.0  \n",
       "4   -27.717663    29.424013     -4.685843     8.793524    0.0  \n",
       "\n",
       "[5 rows x 119 columns]"
      ]
     },
     "execution_count": 6,
     "metadata": {},
     "output_type": "execute_result"
    }
   ],
   "source": [
    "# Create dataframe with features\n",
    "names = get_names()\n",
    "names.append(\"Label\")\n",
    "df = pd.DataFrame(features, columns = names)\n",
    "list_cols = []\n",
    "for coll in df.columns:\n",
    "  col = str(coll)\n",
    "  if(col.find(\"pitch\") > 0 and (col.find(\"min\") > 0 or col.find(\"max\") > 0)): \n",
    "    continue\n",
    "  if(col in [\"tempogram_min\", \"tempogram_max\"]):\n",
    "    continue\n",
    "  list_cols.append(col)\n",
    "df_songs = df[list_cols]\n",
    "df_songs.head()"
   ]
  },
  {
   "cell_type": "code",
   "execution_count": 7,
   "metadata": {},
   "outputs": [],
   "source": [
    "# Extract timbre features and labels\n",
    "list_cols = []\n",
    "for coll in df.columns:\n",
    "  col = str(coll)\n",
    "  if(col.find(\"mfcc\") > 0 ):\n",
    "    list_cols.append(col)\n",
    "X_songs = df[list_cols].to_numpy()\n",
    "y_songs = df['Label'].values.reshape(-1,1)"
   ]
  },
  {
   "cell_type": "markdown",
   "metadata": {},
   "source": [
    "### Split data into train, test and validation"
   ]
  },
  {
   "cell_type": "code",
   "execution_count": 43,
   "metadata": {},
   "outputs": [
    {
     "data": {
      "text/plain": [
       "{0.0: 60, 1.0: 60}"
      ]
     },
     "execution_count": 43,
     "metadata": {},
     "output_type": "execute_result"
    }
   ],
   "source": [
    "X_train, y_train, X_aux, y_aux =  get_train_test(size = 0.6 , X = X_songs, y = y_songs)\n",
    "unique, counts = np.unique(y_train, return_counts=True)\n",
    "dict(zip(unique, counts))\n"
   ]
  },
  {
   "cell_type": "code",
   "execution_count": 61,
   "metadata": {},
   "outputs": [
    {
     "data": {
      "text/plain": [
       "{0.0: 20, 1.0: 20}"
      ]
     },
     "execution_count": 61,
     "metadata": {},
     "output_type": "execute_result"
    }
   ],
   "source": [
    "X_test, y_test, X_val, y_val =  get_train_test(size = 0.5 , X = X_aux, y = y_aux)\n",
    "# Count different values in the labels\n",
    "unique, counts = np.unique(y_test, return_counts=True)\n",
    "dict(zip(unique, counts))"
   ]
  },
  {
   "cell_type": "code",
   "execution_count": 62,
   "metadata": {},
   "outputs": [
    {
     "data": {
      "text/plain": [
       "{0.0: 21, 1.0: 20}"
      ]
     },
     "execution_count": 62,
     "metadata": {},
     "output_type": "execute_result"
    }
   ],
   "source": [
    "unique, counts = np.unique(y_val, return_counts=True)\n",
    "dict(zip(unique, counts))"
   ]
  },
  {
   "cell_type": "markdown",
   "metadata": {},
   "source": [
    "# Model"
   ]
  },
  {
   "cell_type": "code",
   "execution_count": 72,
   "metadata": {},
   "outputs": [
    {
     "name": "stdout",
     "output_type": "stream",
     "text": [
      "Epoch:  0 Error:  0.49984683996247775\n"
     ]
    },
    {
     "name": "stderr",
     "output_type": "stream",
     "text": [
      "c:\\Users\\isaur\\miniconda3\\envs\\musical_taste\\lib\\site-packages\\ipykernel_launcher.py:54: RuntimeWarning: overflow encountered in exp\n"
     ]
    },
    {
     "data": {
      "text/plain": [
       "[<matplotlib.lines.Line2D at 0x23a2039e208>]"
      ]
     },
     "execution_count": 72,
     "metadata": {},
     "output_type": "execute_result"
    },
    {
     "data": {
      "image/png": "[encoded data removed]",
      "text/plain": [
       "<Figure size 640x480 with 1 Axes>"
      ]
     },
     "metadata": {},
     "output_type": "display_data"
    }
   ],
   "source": [
    "model = MLP(layers = [Layer(80, 1, activation = 'Sigmoid'),Layer(1, 1, activation = 'Sigmoid'),Layer(1, 1, activation = 'Sigmoid')], learning_rate = 0.1)\n",
    "model.train(X_train.T, y_train.T, epochs = 50)\n",
    "plt.plot(model.errors)"
   ]
  },
  {
   "cell_type": "code",
   "execution_count": 77,
   "metadata": {},
   "outputs": [
    {
     "name": "stdout",
     "output_type": "stream",
     "text": [
      "Train error:  0.0008183576523434876\n"
     ]
    },
    {
     "name": "stderr",
     "output_type": "stream",
     "text": [
      "c:\\Users\\isaur\\miniconda3\\envs\\musical_taste\\lib\\site-packages\\ipykernel_launcher.py:54: RuntimeWarning: overflow encountered in exp\n"
     ]
    }
   ],
   "source": [
    "model.predict(X_test.T)\n",
    "# compute error on test set\n",
    "y_pred = model.predict(X_test.T)\n",
    "print(\"Train error: \", np.mean(y_test.T - y_pred))"
   ]
  },
  {
   "cell_type": "code",
   "execution_count": 78,
   "metadata": {},
   "outputs": [
    {
     "data": {
      "text/plain": [
       "array([[0.49918164, 0.49918164, 0.49918164, 0.49918164, 0.49918164,\n",
       "        0.49918164, 0.49918164, 0.49918164, 0.49918164, 0.49918164,\n",
       "        0.49918164, 0.49918164, 0.49918164, 0.49918164, 0.49918164,\n",
       "        0.49918164, 0.49918164, 0.49918164, 0.49918164, 0.49918164,\n",
       "        0.49918164, 0.49918164, 0.49918164, 0.49918164, 0.49918164,\n",
       "        0.49918164, 0.49918164, 0.49918164, 0.49918164, 0.49918164,\n",
       "        0.49918164, 0.49918164, 0.49918164, 0.49918164, 0.49918164,\n",
       "        0.49918164, 0.49918164, 0.49918164, 0.49918164, 0.49918164]])"
      ]
     },
     "execution_count": 78,
     "metadata": {},
     "output_type": "execute_result"
    }
   ],
   "source": [
    "y_pred"
   ]
  },
  {
   "cell_type": "markdown",
   "metadata": {},
   "source": [
    "# Integrate with Wandb to record the tests"
   ]
  },
  {
   "cell_type": "code",
   "execution_count": 10,
   "metadata": {},
   "outputs": [
    {
     "name": "stderr",
     "output_type": "stream",
     "text": [
      "Failed to detect the name of this notebook, you can set it manually with the WANDB_NOTEBOOK_NAME environment variable to enable code saving.\n",
      "\u001b[34m\u001b[1mwandb\u001b[0m: Currently logged in as: \u001b[33misitarex\u001b[0m. Use \u001b[1m`wandb login --relogin`\u001b[0m to force relogin\n"
     ]
    },
    {
     "data": {
      "text/plain": [
       "True"
      ]
     },
     "execution_count": 10,
     "metadata": {},
     "output_type": "execute_result"
    }
   ],
   "source": [
    "import wandb\n",
    "import os\n",
    "wandb.login()"
   ]
  },
  {
   "cell_type": "markdown",
   "metadata": {},
   "source": [
    "## Tests 1 hidden layer"
   ]
  },
  {
   "cell_type": "code",
   "execution_count": null,
   "metadata": {},
   "outputs": [],
   "source": [
    "epochs = 50\n",
    "for i in range(1,6):\n",
    "  for lr in [1, 0.1, 0.01]:\n",
    "    run_name = \"Hidden_neurons=\" + str(i) + \"_lr=\" + str(lr)\n",
    "    run = wandb.init(project =\"Musical Taste Runs (1 hidden layer)\",name = run_name, reinit=True)\n",
    "    model = MLP(layers = [Layer(80, i, activation = 'Sigmoid'),Layer(i, 1, activation = 'Sigmoid'),Layer(1, 1, activation = 'Sigmoid')],learning_rate = lr)\n",
    "    model.train(X_songs.T, y_songs.T, epochs = epochs)\n",
    "    model.all_gradients = np.array(model.all_gradients)\n",
    "    wandb.define_metric(\"Loss\", summary=\"min\")\n",
    "    for iter_num in range(epochs):\n",
    "      wandb.log({\"Input layer gradients\": model.all_gradients[iter_num,0], \"Hidden layer gradients\": model.all_gradients[iter_num,1], \"Output layer gradients\": model.all_gradients[iter_num,2]}, step = iter_num)\n",
    "      wandb.log({\"Loss\": model.errors[iter_num]}, step = iter_num)\n",
    "    print(\"Error: \", model.errors[-1])\n",
    "    run.finish()"
   ]
  },
  {
   "cell_type": "markdown",
   "metadata": {},
   "source": [
    "## Tests 2 hidden layers"
   ]
  },
  {
   "cell_type": "code",
   "execution_count": null,
   "metadata": {},
   "outputs": [],
   "source": [
    "epochs = 50\n",
    "for i in range(1,6):\n",
    "  for j in range(1,6):\n",
    "    for lr in [1, 0.1, 0.01]:\n",
    "      run_name = \"Neurons l1=\" + str(i) + \"_neurons l2=\" + str(j) +\"_lr=\" + str(lr)\n",
    "      run = wandb.init(project =\"Musical Taste Runs (2 hidden layers)\",name = run_name, reinit=True)\n",
    "      model = MLP(layers = [Layer(80, i, activation = 'Sigmoid'),Layer(i, j, activation = 'Sigmoid'),Layer(j, 1, activation = 'Sigmoid'), Layer(1, 1, activation = 'Sigmoid')],learning_rate = lr)\n",
    "      model.train(X_songs.T, y_songs.T, epochs = epochs)\n",
    "      model.all_gradients = np.array(model.all_gradients)\n",
    "      wandb.define_metric(\"Loss\", summary=\"min\")\n",
    "      for iter_num in range(epochs):\n",
    "        wandb.log({\"Input layer gradients\": model.all_gradients[iter_num,0], \n",
    "        \"Hidden layer 1 gradients\": model.all_gradients[iter_num,1], \n",
    "        \"Hidden layer 2 gradients\": model.all_gradients[iter_num,2], \n",
    "        \"Output layer gradients\": model.all_gradients[iter_num,3]}, step = iter_num)\n",
    "        wandb.log({\"Loss\": model.errors[iter_num]}, step = iter_num)\n",
    "      print(\"Error: \", model.errors[-1])\n",
    "      run.finish()"
   ]
  },
  {
   "cell_type": "markdown",
   "metadata": {},
   "source": [
    "## Tests 3 hidden layers"
   ]
  },
  {
   "cell_type": "code",
   "execution_count": null,
   "metadata": {},
   "outputs": [],
   "source": [
    "epochs = 50\n",
    "for i in range(1,6):\n",
    "  for j in range(1,6):\n",
    "    for k in range(1,6):\n",
    "      for lr in [1, 0.1,0.01]:\n",
    "        run_name = \"Neurons l1=\" + str(i) + \" Neurons l2=\" + str(j) +\" Neurons l3=\" + str(k) +\" lr=\" + str(lr)\n",
    "        run = wandb.init(project =\"Musical Taste Runs (3 hidden layers)\",name = run_name, reinit=True)\n",
    "        model = MLP(layers = [Layer(80, i, activation = 'Sigmoid'),\n",
    "        Layer(i, j, activation = 'Sigmoid'),\n",
    "        Layer(j, k, activation = 'Sigmoid'),\n",
    "        Layer(k, 1, activation = 'Sigmoid'), \n",
    "        Layer(1, 1, activation = 'Sigmoid')],\n",
    "        learning_rate = lr)\n",
    "        model.train(X_songs.T, y_songs.T, epochs = epochs)\n",
    "        model.all_gradients = np.array(model.all_gradients)\n",
    "        wandb.define_metric(\"Loss\", summary=\"min\")\n",
    "        for iter_num in range(epochs):\n",
    "          wandb.log({\"Input layer gradients\": model.all_gradients[iter_num,0], \n",
    "          \"Hidden layer 1 gradients\": model.all_gradients[iter_num,1], \n",
    "          \"Hidden layer 2 gradients\": model.all_gradients[iter_num,2], \n",
    "          \"Hidden layer 3 gradients\": model.all_gradients[iter_num,3], \n",
    "          \"Output layer gradients\": model.all_gradients[iter_num,4]}, step = iter_num)\n",
    "          wandb.log({\"Loss\": model.errors[iter_num]}, step = iter_num)\n",
    "      print(\"Error: \", model.errors[-1])\n",
    "      run.finish()"
   ]
  },
  {
   "cell_type": "code",
   "execution_count": null,
   "metadata": {},
   "outputs": [],
   "source": []
  }
 ],
 "metadata": {
  "kernelspec": {
   "display_name": "Python 3.7.13 ('musical_taste')",
   "language": "python",
   "name": "python3"
  },
  "language_info": {
   "codemirror_mode": {
    "name": "ipython",
    "version": 3
   },
   "file_extension": ".py",
   "mimetype": "text/x-python",
   "name": "python",
   "nbconvert_exporter": "python",
   "pygments_lexer": "ipython3",
   "version": "3.7.13"
  },
  "orig_nbformat": 4,
  "vscode": {
   "interpreter": {
    "hash": "054c0b359d417d33b5fbe9b95cb8d7311abeb8070f400d95aa11f47a6d7aacca"
   }
  }
 },
 "nbformat": 4,
 "nbformat_minor": 2
}
